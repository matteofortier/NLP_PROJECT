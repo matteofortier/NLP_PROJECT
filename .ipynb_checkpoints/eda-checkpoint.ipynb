{
 "cells": [
  {
   "cell_type": "code",
   "execution_count": 11,
   "metadata": {},
   "outputs": [],
   "source": [
    "import re\n",
    "import string\n",
    "import swifter\n",
    "import pandas as pd\n",
    "from nltk.stem.snowball import SnowballStemmer\n",
    "stemmer = SnowballStemmer('english')"
   ]
  },
  {
   "cell_type": "code",
   "execution_count": 2,
   "metadata": {},
   "outputs": [],
   "source": [
    "df = pd.read_json('data/recipe1M_layers/layer1.json')[['ingredients']]"
   ]
  },
  {
   "cell_type": "code",
   "execution_count": 3,
   "metadata": {},
   "outputs": [],
   "source": [
    "def preprocessor(text):\n",
    "    text = text.split(',')[0]\n",
    "    text = text.split(' or ')[0]\n",
    "    text = text.split(' for ')[0]\n",
    "    text = re.sub('[^a-zA-Z]\\sto\\s[^a-zA-Z]','',text)\n",
    "    text = text.split(' to ')[0]\n",
    "\n",
    "    text = text.lower()\n",
    "    \n",
    "    text = re.sub('(\\((?:\\(??[^\\(]*?\\)))','',text)\n",
    "    # Removes quotation marks.\n",
    "    text = text.replace('\"', \"\")\n",
    "    \n",
    "    # Remove numeric characters.\n",
    "    text = re.sub('\\w*\\d\\w*', ' ', text)\n",
    "    \n",
    "    # Remove puncuation.\n",
    "    text = re.sub('[%s]' % re.escape(string.punctuation), ' ', text)\n",
    "    \n",
    "    text = re.sub('\\s+', ' ', text).strip()\n",
    "    \n",
    "    text = \" \".join([stemmer.stem(x) for x in text.split(' ') if (x not in unit_words)])\n",
    "    \n",
    "#     text = stemmer.stem(text)\n",
    "    \n",
    "    text = text.title()\n",
    "    \n",
    "    text = text.replace(' ','')\n",
    "    \n",
    "    return text\n",
    "\n",
    "unit_words = {'bushel',\n",
    "              'cup',\n",
    "              'dash',\n",
    "              'drop',\n",
    "              'fl. oz',\n",
    "              'g',\n",
    "              'gallon',\n",
    "              'glass',\n",
    "              'kg',\n",
    "              'liter',\n",
    "              'ml',\n",
    "              'ounce',\n",
    "              'pinch',\n",
    "              'pint',\n",
    "              'pound',\n",
    "              'quart',\n",
    "              'scoop',\n",
    "              'shot',\n",
    "              'tablespoon',\n",
    "              'teaspoon',\n",
    " \n",
    "              'bushels',\n",
    "              'cups',\n",
    "              'dashes',\n",
    "              'drops',\n",
    "              'fl. oz',\n",
    "              'gram',\n",
    "              'grams',\n",
    "              'gallons',\n",
    "              'glasses',\n",
    "              'kg',\n",
    "              'liters',\n",
    "              'ml',\n",
    "              'ounces',\n",
    "              'pinches',\n",
    "              'pints',\n",
    "              'pounds',\n",
    "              'quarts',\n",
    "              'scoops',\n",
    "              'shots',\n",
    "              'tablespoons',\n",
    "              'teaspoons',\n",
    "              \n",
    "              'clove',\n",
    "              'cloves',\n",
    "              'tsp',\n",
    "              'tsps',\n",
    "              'tbsp',\n",
    "              'tbsps',\n",
    "              'lb',\n",
    "              'lbs',\n",
    "              'c',\n",
    "              'oz',\n",
    "              'qt',\n",
    "              'x',\n",
    "              'sm',\n",
    "              'to',\n",
    "              'tbs',\n",
    "              'lrg',\n",
    "              'large',\n",
    "              'medium',\n",
    "              'small',\n",
    "              \n",
    "              'fresh',\n",
    "              'freshly',\n",
    "              \n",
    "              'chopped',\n",
    "              'finely',\n",
    "              'coarsely',\n",
    "              'coarse',\n",
    "              'sifted',\n",
    "              'mashed',\n",
    "              'whole',\n",
    "              'extra',\n",
    "              'diced',\n",
    "              'crumbled',\n",
    "              'pasta',\n",
    "              \n",
    "              'thin',\n",
    "              'thinly',\n",
    "              'sliced',\n",
    "              \n",
    "              'grated',\n",
    "              'shredded',\n",
    "              'yolk',\n",
    "              'white',\n",
    "              'yolks',\n",
    "              'whites',\n",
    "              'all',\n",
    "              'purpose'\n",
    "}"
   ]
  },
  {
   "cell_type": "code",
   "execution_count": 4,
   "metadata": {},
   "outputs": [
    {
     "data": {
      "text/plain": [
       "'Egg'"
      ]
     },
     "execution_count": 4,
     "metadata": {},
     "output_type": "execute_result"
    }
   ],
   "source": [
    "preprocessor('egg White')"
   ]
  },
  {
   "cell_type": "code",
   "execution_count": 5,
   "metadata": {},
   "outputs": [
    {
     "data": {
      "application/vnd.jupyter.widget-view+json": {
       "model_id": "4bf69dc983414a3bbbd1ae9fa8594025",
       "version_major": 2,
       "version_minor": 0
      },
      "text/plain": [
       "HBox(children=(HTML(value='Pandas Apply'), FloatProgress(value=0.0, max=1029720.0), HTML(value='')))"
      ]
     },
     "metadata": {},
     "output_type": "display_data"
    },
    {
     "name": "stdout",
     "output_type": "stream",
     "text": [
      "\n"
     ]
    }
   ],
   "source": [
    "# df['instructions'] = df['instructions'].swifter.apply(lambda x: [y['text'] for y in x])\n",
    "df['ingredients'] = df['ingredients'].swifter.apply(lambda x: [y['text'] for y in x])\n",
    "# df['quantity'] = df['quantity'].apply(lambda x: [y['text'] for y in x])\n",
    "# df['unit'] = df['unit'].apply(lambda x: [y['text'] for y in x])\n"
   ]
  },
  {
   "cell_type": "code",
   "execution_count": null,
   "metadata": {},
   "outputs": [],
   "source": [
    "df['ingredients'] = df['ingredients'].swifter.apply(lambda x: ([preprocessor(y) for y in x]))"
   ]
  },
  {
   "cell_type": "code",
   "execution_count": null,
   "metadata": {},
   "outputs": [],
   "source": [
    "def flatten(t):\n",
    "    return [item for sublist in t for item in sublist]\n",
    "from collections import Counter\n",
    "\n",
    "counted = Counter(flatten(df['ingredients'].tolist()))\n",
    "counted.most_common()"
   ]
  },
  {
   "cell_type": "code",
   "execution_count": 7,
   "metadata": {},
   "outputs": [
    {
     "data": {
      "application/vnd.jupyter.widget-view+json": {
       "model_id": "467fc3bb6aa24cf1843afeb498539681",
       "version_major": 2,
       "version_minor": 0
      },
      "text/plain": [
       "HBox(children=(HTML(value='Pandas Apply'), FloatProgress(value=0.0, max=1029720.0), HTML(value='')))"
      ]
     },
     "metadata": {},
     "output_type": "display_data"
    },
    {
     "name": "stdout",
     "output_type": "stream",
     "text": [
      "\n"
     ]
    }
   ],
   "source": [
    "df['ingredients'] = df['ingredients'].swifter.apply(lambda x: ' '.join(x))"
   ]
  },
  {
   "cell_type": "code",
   "execution_count": 8,
   "metadata": {},
   "outputs": [
    {
     "data": {
      "text/plain": [
       "'Tomato KosherSalt RedOnion GreenBellPepper RedBellPepper YellowBellPepper Cucumb VirginOlivOil LeavBasil'"
      ]
     },
     "execution_count": 8,
     "metadata": {},
     "output_type": "execute_result"
    }
   ],
   "source": [
    "df.iloc[2]['ingredients']\n"
   ]
  },
  {
   "cell_type": "code",
   "execution_count": 9,
   "metadata": {},
   "outputs": [],
   "source": [
    "from sklearn.decomposition import NMF\n",
    "from sklearn.feature_extraction.text import TfidfVectorizer\n",
    "tfidf = TfidfVectorizer(lowercase=False,min_df=2,max_df=0.8)\n",
    "nmf_model = NMF(30)\n",
    "\n",
    "doc_word = tfidf.fit_transform(df['ingredients'])\n",
    "doc_topic = nmf_model.fit_transform(doc_word)"
   ]
  },
  {
   "cell_type": "code",
   "execution_count": 10,
   "metadata": {},
   "outputs": [
    {
     "name": "stdout",
     "output_type": "stream",
     "text": [
      "\n",
      "Topic  0\n",
      "Flour, Salt, Shorten, WarmWater, Margarin\n",
      "\n",
      "Topic  1\n",
      "Garlic, VirginOlivOil, Basil, DriOregano, Oregano\n",
      "\n",
      "Topic  2\n",
      "Sugar, Strawberri, Cinnamon, Cornstarch, Vinegar\n",
      "\n",
      "Topic  3\n",
      "Butter, HeaviCream, Pecan, Mushroom, ChickenBroth\n",
      "\n",
      "Topic  4\n",
      "GroundBlackPepper, VirginOlivOil, KosherSalt, DijonMustard, BalsamVinegar\n",
      "\n",
      "Topic  5\n",
      "Milk, BakePowder, CheddarChees, Nutmeg, SharpCheddarChees\n",
      "\n",
      "Topic  6\n",
      "VanillaExtract, PowderSugar, ConfectionSugar, Pecan, UnsweetenCocoaPowder\n",
      "\n",
      "Topic  7\n",
      "Onion, Carrot, Potato, Celeri, GroundBeef\n",
      "\n",
      "Topic  8\n",
      "Vanilla, PowderSugar, Cocoa, Pecan, ChocolChip\n",
      "\n",
      "Topic  9\n",
      "Water, Cornstarch, Vinegar, Salt, BreadFlour\n",
      "\n",
      "Topic  10\n",
      "Egg, CreamOfTartar, Breadcrumb, CasterSugar, CakeFlour\n",
      "\n",
      "Topic  11\n",
      "OlivOil, BalsamVinegar, RedWineVinegar, Basil, DijonMustard\n",
      "\n",
      "Topic  12\n",
      "LemonJuic, LemonZest, Mayonnais, WorcestershirSauc, DijonMustard\n",
      "\n",
      "Topic  13\n",
      "UnsaltButter, HeaviCream, PureVanillaExtract, ConfectionSugar, KosherSalt\n",
      "\n",
      "Topic  14\n",
      "GarlicPowder, BlackPepper, Paprika, OnionPowder, CayennPepper\n",
      "\n",
      "Topic  15\n",
      "BrownSugar, Cinnamon, Nutmeg, Appl, Raisin\n",
      "\n",
      "Topic  16\n",
      "SoySauc, Cornstarch, SesamOil, Ginger, GreenOnion\n",
      "\n",
      "Topic  17\n",
      "SourCream, CheddarChees, Mayonnais, GreenOnion, CreamChees\n",
      "\n",
      "Topic  18\n",
      "ParmesanChees, MozzarellaChees, Basil, Zucchini, Mushroom\n",
      "\n",
      "Topic  19\n",
      "VegetOil, Salt, Zucchini, GroundBlackPepper, Scallion\n",
      "\n",
      "Topic  20\n",
      "Tomato, Cilantro, LimeJuic, RedOnion, GroundCumin\n",
      "\n",
      "Topic  21\n",
      "Honey, OrangJuic, DijonMustard, WheatFlour, Banana\n",
      "\n",
      "Topic  22\n",
      "SaltAndPepper, Potato, VirginOlivOil, HeaviCream, SliceBacon\n",
      "\n",
      "Topic  23\n",
      "GroundCinnamon, GroundNutmeg, GroundGinger, Ground, GroundAllspic\n",
      "\n",
      "Topic  24\n",
      "Salt, Pepper, Potato, Vinegar, GroundPepper\n",
      "\n",
      "Topic  25\n",
      "GranulSugar, PureVanillaExtract, Strawberri, ConfectionSugar, Cornstarch\n",
      "\n",
      "Topic  26\n",
      "BakePowder, BakeSoda, Salt, Buttermilk, WheatFlour\n",
      "\n",
      "Topic  27\n",
      "Parsley, Thyme, Mushroom, Basil, GreenOnion\n",
      "\n",
      "Topic  28\n",
      "Lemon, Orang, Lime, Chicken, CinnamonStick\n",
      "\n",
      "Topic  29\n",
      "Oil, Vinegar, BonelessSkinlessChickenBreast, GreenChili, ChickenBreast\n"
     ]
    }
   ],
   "source": [
    "def display_topics(model, feature_names, no_top_words, topic_names=None):\n",
    "    for ix, topic in enumerate(model.components_):\n",
    "        if not topic_names or not topic_names[ix]:\n",
    "            print(\"\\nTopic \", ix)\n",
    "        else:\n",
    "            print(\"\\nTopic: '\",topic_names[ix],\"'\")\n",
    "        print(\", \".join([feature_names[i]\n",
    "                        for i in topic.argsort()[:-no_top_words - 1:-1]]))\n",
    "        \n",
    "display_topics(nmf_model, tfidf.get_feature_names(), 5)\n"
   ]
  },
  {
   "cell_type": "code",
   "execution_count": null,
   "metadata": {},
   "outputs": [],
   "source": []
  },
  {
   "cell_type": "code",
   "execution_count": null,
   "metadata": {},
   "outputs": [],
   "source": []
  }
 ],
 "metadata": {
  "kernelspec": {
   "display_name": "Python 3",
   "language": "python",
   "name": "python3"
  },
  "language_info": {
   "codemirror_mode": {
    "name": "ipython",
    "version": 3
   },
   "file_extension": ".py",
   "mimetype": "text/x-python",
   "name": "python",
   "nbconvert_exporter": "python",
   "pygments_lexer": "ipython3",
   "version": "3.8.5"
  }
 },
 "nbformat": 4,
 "nbformat_minor": 4
}
